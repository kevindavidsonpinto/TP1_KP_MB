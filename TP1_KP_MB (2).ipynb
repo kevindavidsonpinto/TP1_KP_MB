{
 "cells": [
  {
   "cell_type": "markdown",
   "metadata": {
    "collapsed": true,
    "id": "Dh8MkXaG-c9Y"
   },
   "source": [
    "# Curso de Big Data\n",
    "\n",
    "## Trabajo Práctico 1 - Parte 1"
   ]
  },
  {
   "cell_type": "markdown",
   "metadata": {
    "id": "RhBlm6mZ-c9e"
   },
   "source": [
    "### Reglas de formato y presentación\n",
    "- El trabajo debe estar bien comentado (utilizando #) para que el código sea fácil de entender por sus compañeros y profesores.\n",
    "\n",
    "- El mismo debe ser completado en este Jupyter Notebook y entregado como tal, es decir en un archivo .ipynb\n"
   ]
  },
  {
   "cell_type": "markdown",
   "metadata": {
    "id": "ZEjGaa4U-c9g"
   },
   "source": [
    "### Fecha de entrega:\n",
    "Miércoles 4 de octubre a las 23:59hs"
   ]
  },
  {
   "cell_type": "markdown",
   "metadata": {
    "id": "N9TU2y7E-c9h"
   },
   "source": [
    "### Modalidad de entrega\n",
    "- Al finalizar el trabajo práctico deben hacer un último <i>commit</i> en su repositorio de GitHub con el mensaje “Entrega final del tp”. \n",
    "- Asegurense de haber creado una carpeta llamada TP1. Este Jupyter Notebook y el correspondiente al TP1 - Parte 2 deben estar dentro de esa carpeta.\n",
    "- También deben completar el link de su repositorio -para que pueda ser clonado y corregido- en la siguiente google sheet: https://docs.google.com/spreadsheets/d/11nJY1Frgla45sTgsPiSeOZM9iBM-XRWh/edit?usp=sharing&ouid=105815768529474116534&rtpof=true&sd=true\n",
    "- La última versión en el repositorio es la que será evaluada. Por lo que es importante que: \n",
    "    - No completen la google sheet hasta no haber terminado y estar seguros de que han hecho el <i>commit y push</i> a la versión final que quieren entregar. Debido a que se pueden tomar hasta 3 días de extensión a lo largo del curso, no se  corregirán sus tareas hasta no ver el link en la google sheet.\n",
    "    - No hagan nuevos <i>push</i> despues de haber entregado su versión final. Esto generaría confusión acerca de que versión es la que quieren que se les corrija. "
   ]
  },
  {
   "cell_type": "markdown",
   "metadata": {
    "id": "ZXbrPraa-c9i"
   },
   "source": [
    "#### Ejercicio 1\n",
    "Este ejercicio simplemente busca repasar lo que aprendimos sobre definición de variables. Definir dos variables con un nombre combinado (al menos dos palabras), una que se pueda crear y otra que tenga un nombre inaceptable (genera error). Explicar por qué ocurre el error."
   ]
  },
  {
   "cell_type": "code",
   "execution_count": 3,
   "metadata": {
    "id": "mb7PkXfN-c9j"
   },
   "outputs": [
    {
     "ename": "SyntaxError",
     "evalue": "invalid syntax (1161390011.py, line 7)",
     "output_type": "error",
     "traceback": [
      "\u001b[1;36m  Cell \u001b[1;32mIn[3], line 7\u001b[1;36m\u001b[0m\n\u001b[1;33m    mi número = 42\u001b[0m\n\u001b[1;37m       ^\u001b[0m\n\u001b[1;31mSyntaxError\u001b[0m\u001b[1;31m:\u001b[0m invalid syntax\n"
     ]
    }
   ],
   "source": [
    "# Caso A\n",
    "nombre_completo = \"Juan Pérez\"\n",
    "\n",
    "\n",
    "\n",
    "# Caso B (acá debería saltar un error)\n",
    "mi número = 42\n",
    "# En el segundo ejemplo, hemos intentado definir una variable llamada \"mi número\" con un espacio en el nombre. \n",
    "# Esto generará un error porque los nombres de variables no pueden contener espacios en blanco. \n",
    "# Deben ser una única palabra o utilizar guiones bajos (_) para separar palabras si se desea dar un nombre \n",
    "# compuesto a la variable.\n"
   ]
  },
  {
   "cell_type": "markdown",
   "metadata": {},
   "source": [
    "#### Ejercicio 2\n",
    "Importar módulos. Usando el módulo math impriman la tangente de 1. ¿Cuál es el resultado?\n",
    "Hagan este cálculo de dos formas: primero importando el módulo math y usando la función correspondiente y luego solo importando la función específica que precisan para el cálculo."
   ]
  },
  {
   "cell_type": "code",
   "execution_count": 4,
   "metadata": {},
   "outputs": [
    {
     "name": "stdout",
     "output_type": "stream",
     "text": [
      "1.5574077246549023\n",
      "1.5574077246549023\n"
     ]
    }
   ],
   "source": [
    "# Caso A\n",
    "import math\n",
    "\n",
    "tangente_de_1 = math.tan(1)\n",
    "print(tangente_de_1)\n",
    "\n",
    "\n",
    "# Caso B\n",
    "from math import tan\n",
    "tangent_of_1 = tan(1)\n",
    "print(tangent_of_1)"
   ]
  },
  {
   "cell_type": "markdown",
   "metadata": {
    "id": "GlNh0fyv-c9l"
   },
   "source": [
    "#### Ejercicio 3 \n",
    "Este ejercicio trata sobre lograr el intercambio de valores entre dos variables utilizando una variable temporal para hacerlo. Las variables temporales y la sustitución de valores termina siendo útil en algunos loops. Los pasos a seguir son: (a) definir variables A y B (cuyos valores buscaremos invertir); (b) definir una variable temporal que resguarde el valor de B; (c) sustitución (asignar B igual a A y también A igual al valor original de B); (d) imprimir valores para verificar."
   ]
  },
  {
   "cell_type": "code",
   "execution_count": 6,
   "metadata": {
    "id": "uWalSYFC-c9m"
   },
   "outputs": [
    {
     "name": "stdout",
     "output_type": "stream",
     "text": [
      "Valor de a despues del intercambio: 2\n",
      "Valor de b despues del intercambio: 1\n"
     ]
    }
   ],
   "source": [
    "# a) Definir variables A y B, \n",
    "a = 1\n",
    "b = 2\n",
    "\n",
    "# b) Definir variable temporal \"tmp\" igual a B (la variable, no el valor)\n",
    "temp = b\n",
    "\n",
    "# c) Ahora sustituir variables: variable B igual a variable A (la variable, no el\n",
    "# valor) y viceversa.\n",
    "b = a\n",
    "a = temp\n",
    "\n",
    "# d) Verifiquemos resultados: imprimir variables A y B\n",
    "print(\"Valor de a despues del intercambio:\", a)\n",
    "print(\"Valor de b despues del intercambio:\", b)\n"
   ]
  },
  {
   "cell_type": "markdown",
   "metadata": {
    "id": "wXhAaRyN-c9p"
   },
   "source": [
    "#### Ejercicio 4\n",
    "En este ejercicio se busca poner en práctica el uso de range() en un for loop. \n",
    "\n",
    "Construir un for loop usando un range(). El range debe ser entre los valores que quieran (con una diferencia mínima de 15 entre start y stop), en incrementos de 3 unidades. Dentro del loop, implementar una sentencia condicional que imprima una leyenda indicando si el input es par o impar."
   ]
  },
  {
   "cell_type": "code",
   "execution_count": null,
   "metadata": {
    "id": "_oE5sG0c-c9q"
   },
   "outputs": [],
   "source": [
    "# Resolver acá\n",
    "# Primero tenemos que definir los valores de inicio y fin del rango\n",
    "inicio = 10  \n",
    "fin = 50    \n",
    "\n",
    "# Asegura que los valores tengan una diferencia mínima de 15\n",
    "if fin - inicio < 15:\n",
    "    print(\"La diferencia entre el inicio y el fin debe ser al menos 15.\")\n",
    "else:\n",
    "    # Un for loop con incrementos de 3 unidades\n",
    "    for numero in range(inicio, fin, 3):\n",
    "        # Verifica si el número es par o impar\n",
    "        if numero % 2 == 0:\n",
    "            print(f\"{numero} es un número par.\")\n",
    "        else:\n",
    "            print(f\"{numero} es un número impar.\")\n"
   ]
  },
  {
   "cell_type": "markdown",
   "metadata": {
    "id": "h3g5bXUB-c9u"
   },
   "source": [
    "#### Ejercicio 5\n",
    "Para practicar el uso de condiciones lógicas y la definición de funciones, construir una función con una sentencia condicional que verifique si un año es bisiesto o no. Para que un año sea bisiesto debe cumplir una de dos condiciones:\n",
    "\n",
    "(a) que sea divisible por 400; o\n",
    "\n",
    "(b) que sea divisible por 4 y no sea divisible por 100\n",
    "\n",
    "Notar que son dos condiciones, donde la segunda condición tiene dos componentes. Prueben la función con 3 valores para verificar que funcione."
   ]
  },
  {
   "cell_type": "code",
   "execution_count": 7,
   "metadata": {
    "id": "7_MnILdz-c9v"
   },
   "outputs": [
    {
     "name": "stdout",
     "output_type": "stream",
     "text": [
      "2000 es bisiesto: True\n",
      "2020 es bisiesto: True\n",
      "2022 es bisiesto: False\n"
     ]
    }
   ],
   "source": [
    "# Resolver acá\n",
    "\n",
    "def si_bisiesto(anio):\n",
    "    # Comprobar si el año cumple con las condiciones\n",
    "    if (anio % 400 == 0) or (anio % 4 == 0 and anio % 100 != 0):\n",
    "        return True\n",
    "    else:\n",
    "        return False\n",
    "\n",
    "# Prueba de la función con tres valores\n",
    "anio1 = 2000  # Es bisiesto (cumple la primera condición)\n",
    "anio2 = 2020  # Es bisiesto (cumple la segunda condición)\n",
    "anio3 = 2022  # No es bisiesto (no cumple ninguna de las condiciones)\n",
    "\n",
    "print(f\"{anio1} es bisiesto: {si_bisiesto(anio1)}\")\n",
    "print(f\"{anio2} es bisiesto: {si_bisiesto(anio2)}\")\n",
    "print(f\"{anio3} es bisiesto: {si_bisiesto(anio3)}\")\n"
   ]
  },
  {
   "cell_type": "markdown",
   "metadata": {
    "collapsed": true,
    "id": "P3a7bJkd-c9w"
   },
   "source": [
    "#### Ejercicio 6 \n",
    "Pongamos en práctica identificar el type() de cada variable. A continuación tenemos una lista con elementos de diferentes tipos. Construyan un for loop que itere sobre la lista e imprima un cartel indicando el tipo de dato u objeto que hay en cada caso."
   ]
  },
  {
   "cell_type": "code",
   "execution_count": null,
   "metadata": {
    "id": "jDf4d_Wr-c9w"
   },
   "outputs": [],
   "source": [
    "mi_lista = [10, 34.5, 99999, 'abc', [1,2,3], ('ARG', 1810), {'pob': 45}, True]"
   ]
  },
  {
   "cell_type": "code",
   "execution_count": 9,
   "metadata": {
    "id": "SAJgEiNEFQAS"
   },
   "outputs": [
    {
     "name": "stdout",
     "output_type": "stream",
     "text": [
      "El tipo de dato u objeto en la lista es: <class 'int'>\n",
      "El tipo de dato u objeto en la lista es: <class 'float'>\n",
      "El tipo de dato u objeto en la lista es: <class 'int'>\n",
      "El tipo de dato u objeto en la lista es: <class 'str'>\n",
      "El tipo de dato u objeto en la lista es: <class 'list'>\n",
      "El tipo de dato u objeto en la lista es: <class 'tuple'>\n",
      "El tipo de dato u objeto en la lista es: <class 'dict'>\n",
      "El tipo de dato u objeto en la lista es: <class 'bool'>\n"
     ]
    }
   ],
   "source": [
    "# Resolver acá\n",
    "mi_lista = [10, 34.5, 99999, 'abc', [1,2,3], ('ARG', 1810), {'pob': 45}, True]\n",
    "for elemento in mi_lista:\n",
    "    tipo = type(elemento)\n",
    "    print(f\"El tipo de dato u objeto en la lista es: {tipo}\")"
   ]
  },
  {
   "cell_type": "markdown",
   "metadata": {
    "id": "y1lncitl-c9x"
   },
   "source": [
    "#### Ejercicio 7\n",
    "Ahora definan ustedes una nueva lista, en la que los primeros cuatro elementos sean palabras (strings), el quinto elemento no sea string, y el sexto sea string. Construyan un for loop que corra por la lista y que imprima la palabra y la longitud de la misma. Que el loop contenga una sentencia condicional que imprima un cartel \"Elemento no es un string: < el elemento > | < class del elemento >\" para los casos dónde el elemento evaluado no sea string."
   ]
  },
  {
   "cell_type": "code",
   "execution_count": 10,
   "metadata": {
    "id": "bFOk9Os0-c9x"
   },
   "outputs": [
    {
     "name": "stdout",
     "output_type": "stream",
     "text": [
      "Palabra: viaje, Longitud: 5\n",
      "Palabra: acai, Longitud: 4\n",
      "Palabra: brasil, Longitud: 6\n",
      "Palabra: agua, Longitud: 4\n",
      "Elemento no es un string: 27 | <class 'int'>\n",
      "Palabra: nike, Longitud: 4\n"
     ]
    }
   ],
   "source": [
    "# Resolver acá\n",
    "\n",
    "nueva_lista = [\"viaje\", \"acai\", \"brasil\", \"agua\", 27, \"nike\"]\n",
    "\n",
    "for elemento in nueva_lista:\n",
    "    if isinstance(elemento, str):\n",
    "        print(f\"Palabra: {elemento}, Longitud: {len(elemento)}\")\n",
    "    else:\n",
    "        print(f\"Elemento no es un string: {elemento} | {type(elemento)}\")"
   ]
  },
  {
   "cell_type": "markdown",
   "metadata": {
    "id": "PUpxDz72-c9x"
   },
   "source": [
    "#### Ejercicio 8\n",
    "Argentina tiene una representación legislativa proporcional en la cual la cantidad de diputados se debería ajustar según el tamaño de población de cada provincia. Otra característica de la representación legislativa del país es que hay una cantidad mínima de diputados por provincia (5). Esto genera un desbalance en la cantidad de ciudadanos por cada representante en el Congreso entre provincias.\n",
    "\n",
    "A continuación preparamos algunos ejemplos, dividiendo la población de cada provincia (según estimación para el 2022) por la cantidad de representantes en el Congreso para esa misma jurisdicción. También armamos el equivalente para el total país y una lista con los valores provinciales.\n",
    "\n",
    "En este ejercicio les pedimos que construyan un for loop que itere sobre el diccionario definido y compare cada valor provincial contra el valor de proporcionalidad directa (la variable argentina). El loop debe imprimir una leyenda que indique si la provincia está sobrerepresentada, subrepresentada o con representación proporcional. Además, queremos que el mismo loop compare los valores de las provincias sobrerepresentadas y que guarde el valor de la provincia con mayor sobrerepresentación. Luego del loop impriman este valor así podemos ver que haya funcionado.\n",
    "\n",
    "Fuente para población: https://es.wikipedia.org/wiki/Demograf%C3%ADa_de_Argentina\n",
    "\n",
    "Fuente para representantes: https://es.wikipedia.org/wiki/C%C3%A1mara_de_Diputados_de_la_Naci%C3%B3n_Argentina"
   ]
  },
  {
   "cell_type": "code",
   "execution_count": null,
   "metadata": {
    "id": "hd8Z5AHs-c9y"
   },
   "outputs": [],
   "source": [
    "# Valor de referencia: proporcionalidad\n",
    "argentina = 46044703 / 257\n",
    "\n",
    "# Creamos variables para una selección de jurisdicciones\n",
    "cordoba = 3978984 / 18\n",
    "santa_fe = 3556522 / 19\n",
    "mendoza = 2014533 / 10\n",
    "buenos_aires = 17569053 / 70\n",
    "entre_rios =  1426426 / 9\n",
    "santa_cruz = 333473 / 5\n",
    "formosa = 606041 / 5\n",
    "\n",
    "# Definimos el diccionario para iterar\n",
    "dict_provincias = {\n",
    "    \"Córdoba\": cordoba,\n",
    "    \"Santa Fe\": santa_fe,\n",
    "    \"Mendoza\": mendoza,\n",
    "    \"Buenos Aires\": buenos_aires,\n",
    "    \"Entre Ríos\": entre_rios,\n",
    "    \"Santa Cruz\": santa_cruz,\n",
    "    \"Formosa\": formosa\n",
    "}"
   ]
  },
  {
   "cell_type": "code",
   "execution_count": 20,
   "metadata": {
    "id": "fsEHnxiY-c9y",
    "scrolled": true
   },
   "outputs": [
    {
     "name": "stdout",
     "output_type": "stream",
     "text": [
      "Córdoba esta sobrerepresentada. \n",
      "Santa Fe esta sobrerepresentada. \n",
      "Mendoza esta sobrerepresentada. \n",
      "Buenos Aires esta sobrerepresentada. \n",
      "Entre Ríos está subrepresentada.\n",
      "Santa Cruz está subrepresentada.\n",
      "Formosa está subrepresentada.\n",
      "No hay provincias sobrerepresentadas.\n"
     ]
    }
   ],
   "source": [
    "# Valor de referencia: proporcionalidad\n",
    "argentina = 46044703 / 257\n",
    "\n",
    "# Creamos variables para una selección de jurisdicciones\n",
    "cordoba = 3978984 / 18\n",
    "santa_fe = 3556522 / 19\n",
    "mendoza = 2014533 / 10\n",
    "buenos_aires = 17569053 / 70\n",
    "entre_rios =  1426426 / 9\n",
    "santa_cruz = 333473 / 5\n",
    "formosa = 606041 / 5\n",
    "\n",
    "# Definimos el diccionario para iterar\n",
    "dict_provincias = {\n",
    "    \"Córdoba\": cordoba,\n",
    "    \"Santa Fe\": santa_fe,\n",
    "    \"Mendoza\": mendoza,\n",
    "    \"Buenos Aires\": buenos_aires,\n",
    "    \"Entre Ríos\": entre_rios,\n",
    "    \"Santa Cruz\": santa_cruz,\n",
    "    \"Formosa\": formosa\n",
    "}\n",
    "# Resolver acá\n",
    "# primero nececitamos inicializar varibeles para saber cual es la prvincia mas sobrerepresentada\n",
    "mayor_sobrerepresentacion = 0\n",
    "prov_mas_sobrerepresentada = \"\"\n",
    "\n",
    "# Ahora necesitamos iterar el diccionario\n",
    "for provincia, representacion in dict_provincias.items():\n",
    "    if representacion > argentina:\n",
    "        print(f\"{provincia} esta sobrerepresentada. \")\n",
    "        brecha = representacion - argentina\n",
    "        if brecha > mayor_sobrerepresentacion:\n",
    "            mayor_sobrerepresentacion = brecha\n",
    "            prov_mas_sobrerepresentada\n",
    "        # Nececitamos recorrer el diccionario 'dict_provincias', comparar la representacion de cada provincia\n",
    "        # con e valor de proporcionalidad 'argentina' (46044703 / 257), y mostrar si esta sobrerepresentada\n",
    "        # la brecha es la cantidad de sobre o sub representacion. idealmente la brecha seria 0\n",
    "    elif representacion < argentina:\n",
    "        print(f\"{provincia} está subrepresentada.\")\n",
    "    else:\n",
    "        print(f\"{provincia} tiene representación proporcional.\")\n",
    "\n",
    "# if prov_mas_sobrerepresentada:\n",
    "    # print(f\"La provincia más sobrerepresentada es {prov_mas_sobrerepresentada} con una diferencia de {mayor_sobrerepresentacion} representantes.\")\n",
    "# else:\n",
    "    # print(\"No hay provincias sobrerepresentadas.\")\n",
    "# OJO: no se porque, pero este pedazo de codigo cree que no hay provincias sobrerepresentadas. obviamente hay algo que no funciona, pero no puedo \n",
    "# identificar la parte que no funciona.\n",
    "\n"
   ]
  },
  {
   "cell_type": "markdown",
   "metadata": {
    "id": "GokZe5tV-c9z"
   },
   "source": [
    "#### Ejercicio 9\n",
    "Si buscáramos minimizar la subrepresentación de la provincia de Buenos Aires, ¿cuántos representantes debería tener según el Censo 2022? Usemos el mismo criterio de sub/sobrerepresentacion que en el ejercicio anterior: población sobre cantidad de representantes.\n",
    "\n",
    "Para responder esta pregunta construyan un while loop que incremente de a uno la cantidad de representantes de la Provincia hasta minimizar la subrepresentación. En cada iteración impriman un cartel que diga: \"Se agregó un representante, el total ahora es X\" dónde X es el número de representantes simulado."
   ]
  },
  {
   "cell_type": "code",
   "execution_count": null,
   "metadata": {
    "id": "x9DvuXa_-c9z"
   },
   "outputs": [],
   "source": [
    "# Estos son los valores de la provincia\n",
    "representantes_pba = 70\n",
    "poblacion2010_pba = 17594428\n",
    "\n",
    "\n",
    "# Y el valor de referencia nacional\n",
    "argentina = 46044703 / 257\n"
   ]
  },
  {
   "cell_type": "code",
   "execution_count": 22,
   "metadata": {},
   "outputs": [
    {
     "name": "stdout",
     "output_type": "stream",
     "text": [
      "La provincia de Buenos Aires debería tener 70 representantes para minimizar la subrepresentación.\n"
     ]
    }
   ],
   "source": [
    "# Resolver acá\n",
    "# Estos son los valores de la provincia\n",
    "representantes_pba = 70\n",
    "poblacion2010_pba = 17594428\n",
    "\n",
    "\n",
    "# Y el valor de referencia nacional\n",
    "argentina = 46044703 / 257\n",
    "\n",
    "# primero nececitamos definir el número de representantes en Buenos Aires\n",
    "representantes_bsas = representantes_pba\n",
    "\n",
    "# ahora definimos la población de la provincia de Buenos Aires\n",
    "poblacion_bsas = poblacion2010_pba\n",
    "\n",
    "# definir la representación actual en Buenos Aires\n",
    "representacion_actual = poblacion_bsas / representantes_bsas\n",
    "\n",
    "# while loop para incrementar el número de representantes hasta minimizar la subrepresentación\n",
    "while representacion_actual < argentina:\n",
    "    representantes_bsas += 1\n",
    "    representacion_actual = poblacion_bsas / representantes_bsas\n",
    "    print(f\"Se agregó un representante, el total ahora es {representantes_bsas}\")\n",
    "\n",
    "print(f\"La provincia de Buenos Aires debería tener {representantes_bsas} representantes para minimizar la subrepresentación.\")"
   ]
  },
  {
   "cell_type": "markdown",
   "metadata": {},
   "source": [
    "#### Ejercicio 10\n",
    "Construyan una función llamada suma que tome una cantidad variable de parámetros y devuelva el resultado de la suma."
   ]
  },
  {
   "cell_type": "code",
   "execution_count": 23,
   "metadata": {},
   "outputs": [
    {
     "name": "stdout",
     "output_type": "stream",
     "text": [
      "6\n",
      "100\n",
      "21\n"
     ]
    }
   ],
   "source": [
    "# Resolver acá\n",
    "# En python podemos utilizar el '*'' antes del nombre del parámetro\n",
    "\n",
    "def summarize(*arguments):\n",
    "    results = 0\n",
    "    for number in arguments:\n",
    "        results += number\n",
    "    return results\n",
    "# la funcion summarize accepta una cantidad variable de argumentos de forma tupla 'arguments'\n",
    "# y luego itera estos argumentos sumandolos a la variable 'resultado'.\n",
    "\n",
    "print(summarize(1, 2, 3))  \n",
    "print(summarize(10, 20, 30, 40))  \n",
    "print(summarize(5, 10, -3, 7, 2)) \n"
   ]
  },
  {
   "cell_type": "code",
   "execution_count": null,
   "metadata": {},
   "outputs": [],
   "source": []
  }
 ],
 "metadata": {
  "anaconda-cloud": {},
  "colab": {
   "name": "TP1 - Parte 1.ipynb",
   "provenance": []
  },
  "kernelspec": {
   "display_name": "Python 3 (ipykernel)",
   "language": "python",
   "name": "python3"
  },
  "language_info": {
   "codemirror_mode": {
    "name": "ipython",
    "version": 3
   },
   "file_extension": ".py",
   "mimetype": "text/x-python",
   "name": "python",
   "nbconvert_exporter": "python",
   "pygments_lexer": "ipython3",
   "version": "3.11.4"
  }
 },
 "nbformat": 4,
 "nbformat_minor": 1
}
